{
 "cells": [
  {
   "cell_type": "code",
   "execution_count": 2,
   "id": "020856cb-4a8a-47f4-8724-6706a97e5fa6",
   "metadata": {},
   "outputs": [],
   "source": [
    "import pandas as pd\n",
    "import numpy as np\n",
    "import nltk\n",
    "from nltk.sentiment import SentimentIntensityAnalyzer\n",
    "from sklearn.ensemble import IsolationForest\n",
    "from sklearn.feature_extraction.text import TfidfVectorizer\n",
    "from sklearn.preprocessing import MultiLabelBinarizer\n",
    "import re"
   ]
  },
  {
   "cell_type": "code",
   "execution_count": 3,
   "id": "1c140973-ffec-49eb-b6a8-4bdad13baa31",
   "metadata": {},
   "outputs": [
    {
     "name": "stderr",
     "output_type": "stream",
     "text": [
      "[nltk_data] Downloading package vader_lexicon to\n",
      "[nltk_data]     /Users/chehakarora/nltk_data...\n",
      "[nltk_data]   Package vader_lexicon is already up-to-date!\n"
     ]
    }
   ],
   "source": [
    "# Ensure NLTK resources are available\n",
    "nltk.download('vader_lexicon')\n",
    "sia = SentimentIntensityAnalyzer()"
   ]
  },
  {
   "cell_type": "code",
   "execution_count": 4,
   "id": "acd431f7-1dea-42f0-9910-9316c7ea83b4",
   "metadata": {},
   "outputs": [],
   "source": [
    "data = pd.read_csv('trainSA.csv')"
   ]
  },
  {
   "cell_type": "code",
   "execution_count": 5,
   "id": "28015516-3283-48fe-9839-943ce2dd1750",
   "metadata": {},
   "outputs": [
    {
     "name": "stdout",
     "output_type": "stream",
     "text": [
      "Dataset Overview:\n",
      "                                                text      category\n",
      "0                     I am still waiting on my card?  card_arrival\n",
      "1  What can I do if my card still hasn't arrived ...  card_arrival\n",
      "2  I have been waiting over a week. Is the card s...  card_arrival\n",
      "3  Can I track my card while it is in the process...  card_arrival\n",
      "4  How do I know if I will get my card, or if it ...  card_arrival\n"
     ]
    }
   ],
   "source": [
    "# Display basic info\n",
    "print(\"Dataset Overview:\")\n",
    "print(data.head())"
   ]
  },
  {
   "cell_type": "code",
   "execution_count": 6,
   "id": "a79eae8f-e424-4638-8fbb-231bd48b8624",
   "metadata": {},
   "outputs": [],
   "source": [
    "# Preprocess text data - standardize text data gets rid of extra space, ?, !\n",
    "def preprocess_text(text):\n",
    "    if isinstance(text, str):\n",
    "        text = text.lower().strip()\n",
    "        text = re.sub(r'[^a-zA-Z0-9\\s]', '', text)  # Remove special characters\n",
    "        return text\n",
    "    return \"\"\n",
    "\n",
    "data['clean_text'] = data['text'].apply(preprocess_text)"
   ]
  },
  {
   "cell_type": "code",
   "execution_count": null,
   "id": "ae93c8f0-9f15-4376-823a-a90806a21aa2",
   "metadata": {},
   "outputs": [],
   "source": [
    "#VADER sentiment analysis to get sentiment score \n",
    "\n",
    "# Sentiment Analysis - clean text is preprocessed text, VADER to analyze the sentiment. .compound will extract the overall sentiment score. \n",
    "data['sentiment_score'] = data['clean_text'].apply(lambda x: sia.polarity_scores(x)['compound'])\n"
   ]
  },
  {
   "cell_type": "markdown",
   "id": "ad367983-e58e-45b4-81d2-982ea70991af",
   "metadata": {},
   "source": [
    "Multilabel Binarizer converts labels into a binary matrix, each unique category will get a new feature matrix. \n",
    "text is converted to numbers through TF-IDF vectorization based on importance of the word."
   ]
  },
  {
   "cell_type": "code",
   "execution_count": 26,
   "id": "fb05d08c-dd83-494f-8afe-50e9292cc842",
   "metadata": {},
   "outputs": [],
   "source": [
    "# Convert intents into multi-label format\n",
    "mlb = MultiLabelBinarizer()\n",
    "category_features = mlb.fit_transform(data['category'])"
   ]
  },
  {
   "cell_type": "code",
   "execution_count": 30,
   "id": "0ae28a59-8030-4dc2-a4c1-5114f8716c3d",
   "metadata": {},
   "outputs": [
    {
     "name": "stdout",
     "output_type": "stream",
     "text": [
      "[[0. 0. 0. ... 0. 0. 0.]\n",
      " [0. 0. 0. ... 0. 0. 0.]\n",
      " [0. 0. 0. ... 0. 0. 0.]\n",
      " ...\n",
      " [0. 0. 0. ... 0. 0. 0.]\n",
      " [0. 0. 0. ... 0. 0. 0.]\n",
      " [0. 0. 0. ... 0. 0. 0.]]\n"
     ]
    }
   ],
   "source": [
    "tfidf = TfidfVectorizer(max_features=500)\n",
    "text_features = tfidf.fit_transform(data['clean_text']).toarray()\n",
    "# Stack text and category features horizontally\n",
    "features = np.hstack((text_features, category_features)) #features contain both text based and category based numerical representations.\n",
    "print(features)"
   ]
  },
  {
   "cell_type": "markdown",
   "id": "7f2e4235-1f0e-42fa-aca7-2a98e51381dc",
   "metadata": {},
   "source": [
    "Isolation forest is an unsupervised anomaly detection algorithm, it separates the data by randomly partitioning the dataset. Assigns an anomaly score. "
   ]
  },
  {
   "cell_type": "code",
   "execution_count": 34,
   "id": "13331bda-c703-4026-8b96-0158bdb0eb55",
   "metadata": {},
   "outputs": [
    {
     "name": "stdout",
     "output_type": "stream",
     "text": [
      "\n",
      "Anomalous Conversations:\n",
      "                                                   text  \\\n",
      "19    It's been a week since you issued me a card an...   \n",
      "159         Is there any way to see my card in the app?   \n",
      "170   I found my lost card in my jacket pocket this ...   \n",
      "173   I would like to re-activate my card, it was pr...   \n",
      "195    I found my lost card. Am I still able to use it?   \n",
      "...                                                 ...   \n",
      "9486  I used my card the other day to get cash from ...   \n",
      "9598  I want to get a new card before my current one...   \n",
      "9709  I have received my American express in apple p...   \n",
      "9756  i have been trying to add money with apple pay...   \n",
      "9996  I live in the US and I would like to get a car...   \n",
      "\n",
      "                       category anomaly_flag  \n",
      "19               [card_arrival]    Anomalous  \n",
      "159              [card_linking]    Anomalous  \n",
      "170              [card_linking]    Anomalous  \n",
      "173              [card_linking]    Anomalous  \n",
      "195              [card_linking]    Anomalous  \n",
      "...                         ...          ...  \n",
      "9486   [cash_withdrawal_charge]    Anomalous  \n",
      "9598     [card_about_to_expire]    Anomalous  \n",
      "9709  [apple_pay_or_google_pay]    Anomalous  \n",
      "9756  [apple_pay_or_google_pay]    Anomalous  \n",
      "9996          [country_support]    Anomalous  \n",
      "\n",
      "[501 rows x 3 columns]\n"
     ]
    }
   ],
   "source": [
    "# Initialize Isolation Forest\n",
    "iso_forest = IsolationForest(n_estimators=100, contamination=0.05, random_state=42)\n",
    "\n",
    "# Fit the model and predict anomalies\n",
    "data['anomaly'] = iso_forest.fit_predict(features)\n",
    "\n",
    "# Mark anomalies (-1 means anomaly, 1 means normal)\n",
    "data['anomaly_flag'] = data['anomaly'].apply(lambda x: 'Anomalous' if x == -1 else 'Normal')\n",
    "\n",
    "# Show flagged anomalies\n",
    "print(\"\\nAnomalous Conversations:\")\n",
    "print(data[data['anomaly_flag'] == 'Anomalous'][['text', 'category', 'anomaly_flag']])\n"
   ]
  },
  {
   "cell_type": "code",
   "execution_count": 36,
   "id": "a3de77f5-8520-4895-a0ad-f855abd4445c",
   "metadata": {},
   "outputs": [
    {
     "name": "stdout",
     "output_type": "stream",
     "text": [
      "\n",
      "Anomaly detection completed! Results saved to 'flagged_conversations.csv'\n"
     ]
    }
   ],
   "source": [
    "data.to_csv('flagged_conversations.csv', index=False)\n",
    "\n"
   ]
  },
  {
   "cell_type": "code",
   "execution_count": null,
   "id": "4d71825f-fa24-4965-891b-2e00da16b183",
   "metadata": {},
   "outputs": [],
   "source": []
  }
 ],
 "metadata": {
  "kernelspec": {
   "display_name": "Python 3 (ipykernel)",
   "language": "python",
   "name": "python3"
  },
  "language_info": {
   "codemirror_mode": {
    "name": "ipython",
    "version": 3
   },
   "file_extension": ".py",
   "mimetype": "text/x-python",
   "name": "python",
   "nbconvert_exporter": "python",
   "pygments_lexer": "ipython3",
   "version": "3.12.4"
  }
 },
 "nbformat": 4,
 "nbformat_minor": 5
}
